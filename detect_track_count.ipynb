{
 "cells": [
  {
   "cell_type": "code",
   "execution_count": null,
   "id": "2c260943-b848-4670-bc48-5601b74ab0bd",
   "metadata": {},
   "outputs": [],
   "source": [
    "import cv2\n",
    "import pandas as pd\n",
    "import numpy as np\n",
    "import torch\n",
    "import ultralytics\n",
    "from ultralytics import YOLO\n",
    "from tracker import*"
   ]
  },
  {
   "cell_type": "code",
   "execution_count": null,
   "id": "54e982ba-73a7-49d1-93eb-bb69723a692a",
   "metadata": {},
   "outputs": [
    {
     "name": "stdout",
     "output_type": "stream",
     "text": [
      "cpu\n"
     ]
    }
   ],
   "source": [
    "model = YOLO('models/yolo12s.pt')  # Path to the model file\n",
    "\n",
    "device = \"cuda\" if torch.cuda.is_available() else \"cpu\"\n",
    "model.to(device)\n",
    "print(f\"Using device: {device}\")\n"
   ]
  },
  {
   "cell_type": "code",
   "execution_count": null,
   "id": "2771ef49",
   "metadata": {},
   "outputs": [],
   "source": [
    "class_list = ['person', 'bicycle', 'car', 'motorcycle', 'airplane', 'bus', 'train', 'truck', 'boat', 'traffic light', 'fire hydrant', 'stop sign', 'parking meter', 'bench', 'bird', 'cat', 'dog', 'horse', 'sheep', 'cow', 'elephant', 'bear', 'zebra', 'giraffe', 'backpack', 'umbrella', 'handbag', 'tie', 'suitcase', 'frisbee', 'skis', 'snowboard', 'sports ball', 'kite', 'baseball bat', 'baseball glove', 'skateboard', 'surfboard', 'tennis racket', 'bottle', 'wine glass', 'cup', 'fork', 'knife', 'spoon', 'bowl', 'banana', 'apple', 'sandwich', 'orange', 'broccoli', 'carrot', 'hot dog', 'pizza', 'donut', 'cake', 'chair', 'couch', 'potted plant', 'bed', 'dining table', 'toilet', 'tv', 'laptop', 'mouse', 'remote', 'keyboard', 'cell phone', 'microwave', 'oven', 'toaster', 'sink', 'refrigerator', 'book', 'clock', 'vase', 'scissors', 'teddy bear', 'hair drier', 'toothbrush']\n",
    "\n",
    "my_class = ['car', 'motorcycle', 'bus', 'truck', 'rickshaw', 'lorry']\n"
   ]
  },
  {
   "cell_type": "code",
   "execution_count": null,
   "id": "e629ccb1-8ddf-4a16-a604-6606f9f4c447",
   "metadata": {},
   "outputs": [],
   "source": [
    "# Initialize counters for each vehicle type\n",
    "vehicle_counts = {\n",
    "    'car': 0,\n",
    "    'motorcycle': 0,\n",
    "    'bus': 0,\n",
    "    'truck': 0,\n",
    "    'rickshaw': 0,\n",
    "    'lorry': 0\n",
    "}\n",
    "\n",
    "# Initialize a set to keep track of counted vehicle IDs\n",
    "counted_ids = set()\n",
    "# Initialize the Tracker\n",
    "\n",
    "tracker=Tracker()\n",
    "video=cv2.VideoCapture('road_feed.mp4')"
   ]
  },
  {
   "cell_type": "code",
   "execution_count": null,
   "id": "f6a76103-221f-40ae-9365-dabbff2f0d12",
   "metadata": {},
   "outputs": [],
   "source": []
  },
  {
   "cell_type": "code",
   "execution_count": null,
   "id": "9844b21b",
   "metadata": {},
   "outputs": [],
   "source": [
    "\n",
    "\n",
    "# Main loop to process video frames\n",
    "while True:\n",
    "    ret, frame = video.read()\n",
    "    if not ret:\n",
    "        break\n",
    "\n",
    "    # Resize frame (optional, adjust as needed)\n",
    "    frame = cv2.resize(frame, (540, 960))\n",
    "\n",
    "    # Predict objects in the frame using YOLOv12\n",
    "    results = model.predict(frame)\n",
    "    temp = results[0].boxes.data\n",
    "    temp = temp.detach().cpu().numpy()\n",
    "    bb_df = pd.DataFrame(temp).astype(\"int\")\n",
    "\n",
    "    # Filter detected objects\n",
    "    bb_list = []\n",
    "    for index, row in bb_df.iterrows():\n",
    "        x1, y1, x2, y2, sc, d = row\n",
    "        c = class_list[d]\n",
    "        if c in my_class:\n",
    "            bb_list.append([x1, y1, x2, y2, sc, c])\n",
    "\n",
    "    # Update tracker with detected objects\n",
    "    bbox_ids = tracker.update(bb_list)\n",
    "\n",
    "    # Draw bounding boxes and IDs on the frame\n",
    "    for bbox in bbox_ids:\n",
    "        x3, y3, x4, y4, sc, c, id = bbox\n",
    "        cx = int(x3 + x4) // 2\n",
    "        cy = int(y3 + y4) // 2\n",
    "\n",
    "        # Draw bounding box and label\n",
    "        cv2.putText(frame, str(c), (x3, y3 - 2), cv2.FONT_HERSHEY_SIMPLEX, 0.3, (255, 255, 255), 1)\n",
    "        cv2.rectangle(frame, (x3, y3), (x4, y4), (0, 255, 0), 1)\n",
    "\n",
    "        # Count vehicles crossing a line\n",
    "        counter_line_y = 480\n",
    "        offset = 5\n",
    "\n",
    "        # Draw counter line\n",
    "        cv2.line(frame, (150, counter_line_y), (450, counter_line_y), (0, 255, 0), 3)\n",
    "        cv2.putText(frame, 'counter line', (150, counter_line_y - 5), cv2.FONT_HERSHEY_SIMPLEX, 0.5, (255, 255, 255), 1, cv2.LINE_AA)\n",
    "\n",
    "        # Check if vehicle crosses the counter line\n",
    "        if counter_line_y < (cy + offset) and counter_line_y > (cy - offset):\n",
    "            cv2.circle(frame, (cx, cy), 4, (0, 0, 255), -1)\n",
    "            cv2.putText(frame, str(id), (cx, cy), cv2.FONT_HERSHEY_SIMPLEX, 0.5, (0, 255, 255), 1)\n",
    "\n",
    "            # Ensure each vehicle is counted only once\n",
    "            if id not in counted_ids:\n",
    "                counted_ids.add(id)  # Add ID to the set\n",
    "                vehicle_counts[c] += 1  # Increment the count for the detected vehicle type\n",
    "\n",
    "    # Display vehicle counts on the frame\n",
    "    y_offset = 40\n",
    "    for vehicle_type, count in vehicle_counts.items():\n",
    "        cv2.putText(frame, f'{vehicle_type}: {count}', (60, y_offset), cv2.FONT_HERSHEY_SIMPLEX, 0.5, (0, 0, 255), 2)\n",
    "        y_offset += 30  # Move down for the next line\n",
    "\n",
    "    # Display total count on the frame\n",
    "    cv2.putText(frame, f'Total Vehicles: {len(counted_ids)}', (60, y_offset), cv2.FONT_HERSHEY_SIMPLEX, 0.5, (0, 0, 255), 2)\n",
    "\n",
    "    # Show the frame\n",
    "    cv2.imshow(\"Vehicle Detection\", frame)\n",
    "\n",
    "    # Exit on 'ESC' key press\n",
    "    if cv2.waitKey(1) & 0xFF == 27:\n",
    "        break\n",
    "\n",
    "# Release video and close windows\n",
    "video.release()\n",
    "cv2.destroyAllWindows()"
   ]
  }
 ],
 "metadata": {
  "kernelspec": {
   "display_name": "Python 3 (ipykernel)",
   "language": "python",
   "name": "python3"
  },
  "language_info": {
   "codemirror_mode": {
    "name": "ipython",
    "version": 3
   },
   "file_extension": ".py",
   "mimetype": "text/x-python",
   "name": "python",
   "nbconvert_exporter": "python",
   "pygments_lexer": "ipython3",
   "version": "3.12.6"
  }
 },
 "nbformat": 4,
 "nbformat_minor": 5
}
